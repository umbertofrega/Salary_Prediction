{
 "cells": [
  {
   "cell_type": "markdown",
   "id": "7b2a4d17",
   "metadata": {},
   "source": [
    "## Salary Predicion Dataset \n",
    "\n",
    "Questo progetto si prepone di risolvere il problema della __Salary Predicion__ in versione *Classification*, quindi di raggruppare i dati in due classi:\n",
    "- _Salary <= 50k_ Per le persone il cui slario è predetto inferiore a 50k\n",
    "- _Salary > 50k_ Per l'inverso;\n",
    "\n",
    "Iniziamo aprendo il dataset dal folder apposito e leggendolo con _pandas_"
   ]
  },
  {
   "cell_type": "code",
   "execution_count": 1,
   "id": "c384b26e",
   "metadata": {},
   "outputs": [
    {
     "data": {
      "text/html": [
       "<div>\n",
       "<style scoped>\n",
       "    .dataframe tbody tr th:only-of-type {\n",
       "        vertical-align: middle;\n",
       "    }\n",
       "\n",
       "    .dataframe tbody tr th {\n",
       "        vertical-align: top;\n",
       "    }\n",
       "\n",
       "    .dataframe thead th {\n",
       "        text-align: right;\n",
       "    }\n",
       "</style>\n",
       "<table border=\"1\" class=\"dataframe\">\n",
       "  <thead>\n",
       "    <tr style=\"text-align: right;\">\n",
       "      <th></th>\n",
       "      <th>age</th>\n",
       "      <th>workclass</th>\n",
       "      <th>fnlwgt</th>\n",
       "      <th>education</th>\n",
       "      <th>education-num</th>\n",
       "      <th>marital-status</th>\n",
       "      <th>occupation</th>\n",
       "      <th>relationship</th>\n",
       "      <th>race</th>\n",
       "      <th>sex</th>\n",
       "      <th>capital-gain</th>\n",
       "      <th>capital-loss</th>\n",
       "      <th>hours-per-week</th>\n",
       "      <th>native-country</th>\n",
       "      <th>salary</th>\n",
       "    </tr>\n",
       "  </thead>\n",
       "  <tbody>\n",
       "    <tr>\n",
       "      <th>0</th>\n",
       "      <td>39</td>\n",
       "      <td>State-gov</td>\n",
       "      <td>77516</td>\n",
       "      <td>Bachelors</td>\n",
       "      <td>13</td>\n",
       "      <td>Never-married</td>\n",
       "      <td>Adm-clerical</td>\n",
       "      <td>Not-in-family</td>\n",
       "      <td>White</td>\n",
       "      <td>Male</td>\n",
       "      <td>2174</td>\n",
       "      <td>0</td>\n",
       "      <td>40</td>\n",
       "      <td>United-States</td>\n",
       "      <td>&lt;=50K</td>\n",
       "    </tr>\n",
       "    <tr>\n",
       "      <th>1</th>\n",
       "      <td>50</td>\n",
       "      <td>Self-emp-not-inc</td>\n",
       "      <td>83311</td>\n",
       "      <td>Bachelors</td>\n",
       "      <td>13</td>\n",
       "      <td>Married-civ-spouse</td>\n",
       "      <td>Exec-managerial</td>\n",
       "      <td>Husband</td>\n",
       "      <td>White</td>\n",
       "      <td>Male</td>\n",
       "      <td>0</td>\n",
       "      <td>0</td>\n",
       "      <td>13</td>\n",
       "      <td>United-States</td>\n",
       "      <td>&lt;=50K</td>\n",
       "    </tr>\n",
       "    <tr>\n",
       "      <th>2</th>\n",
       "      <td>38</td>\n",
       "      <td>Private</td>\n",
       "      <td>215646</td>\n",
       "      <td>HS-grad</td>\n",
       "      <td>9</td>\n",
       "      <td>Divorced</td>\n",
       "      <td>Handlers-cleaners</td>\n",
       "      <td>Not-in-family</td>\n",
       "      <td>White</td>\n",
       "      <td>Male</td>\n",
       "      <td>0</td>\n",
       "      <td>0</td>\n",
       "      <td>40</td>\n",
       "      <td>United-States</td>\n",
       "      <td>&lt;=50K</td>\n",
       "    </tr>\n",
       "    <tr>\n",
       "      <th>3</th>\n",
       "      <td>53</td>\n",
       "      <td>Private</td>\n",
       "      <td>234721</td>\n",
       "      <td>11th</td>\n",
       "      <td>7</td>\n",
       "      <td>Married-civ-spouse</td>\n",
       "      <td>Handlers-cleaners</td>\n",
       "      <td>Husband</td>\n",
       "      <td>Black</td>\n",
       "      <td>Male</td>\n",
       "      <td>0</td>\n",
       "      <td>0</td>\n",
       "      <td>40</td>\n",
       "      <td>United-States</td>\n",
       "      <td>&lt;=50K</td>\n",
       "    </tr>\n",
       "    <tr>\n",
       "      <th>4</th>\n",
       "      <td>28</td>\n",
       "      <td>Private</td>\n",
       "      <td>338409</td>\n",
       "      <td>Bachelors</td>\n",
       "      <td>13</td>\n",
       "      <td>Married-civ-spouse</td>\n",
       "      <td>Prof-specialty</td>\n",
       "      <td>Wife</td>\n",
       "      <td>Black</td>\n",
       "      <td>Female</td>\n",
       "      <td>0</td>\n",
       "      <td>0</td>\n",
       "      <td>40</td>\n",
       "      <td>Cuba</td>\n",
       "      <td>&lt;=50K</td>\n",
       "    </tr>\n",
       "  </tbody>\n",
       "</table>\n",
       "</div>"
      ],
      "text/plain": [
       "   age          workclass  fnlwgt   education  education-num  \\\n",
       "0   39          State-gov   77516   Bachelors             13   \n",
       "1   50   Self-emp-not-inc   83311   Bachelors             13   \n",
       "2   38            Private  215646     HS-grad              9   \n",
       "3   53            Private  234721        11th              7   \n",
       "4   28            Private  338409   Bachelors             13   \n",
       "\n",
       "        marital-status          occupation    relationship    race      sex  \\\n",
       "0        Never-married        Adm-clerical   Not-in-family   White     Male   \n",
       "1   Married-civ-spouse     Exec-managerial         Husband   White     Male   \n",
       "2             Divorced   Handlers-cleaners   Not-in-family   White     Male   \n",
       "3   Married-civ-spouse   Handlers-cleaners         Husband   Black     Male   \n",
       "4   Married-civ-spouse      Prof-specialty            Wife   Black   Female   \n",
       "\n",
       "   capital-gain  capital-loss  hours-per-week  native-country  salary  \n",
       "0          2174             0              40   United-States   <=50K  \n",
       "1             0             0              13   United-States   <=50K  \n",
       "2             0             0              40   United-States   <=50K  \n",
       "3             0             0              40   United-States   <=50K  \n",
       "4             0             0              40            Cuba   <=50K  "
      ]
     },
     "execution_count": 1,
     "metadata": {},
     "output_type": "execute_result"
    }
   ],
   "source": [
    "import pandas as pd\n",
    "import os\n",
    "\n",
    "os.chdir(\"dataset\")\n",
    "df = pd.read_csv(\"salary.csv\")\n",
    "df.head()"
   ]
  },
  {
   "cell_type": "markdown",
   "id": "5791ab80",
   "metadata": {},
   "source": [
    "### Data Exploration\n",
    "Cominciamo vedendo in che stato versa il Dataset cosicchè si possa capire che tipo di operazioni vanno svolte "
   ]
  },
  {
   "cell_type": "code",
   "execution_count": null,
   "id": "37071c4d",
   "metadata": {},
   "outputs": [],
   "source": [
    "df.columns"
   ]
  },
  {
   "cell_type": "code",
   "execution_count": null,
   "id": "ebaa762b",
   "metadata": {},
   "outputs": [],
   "source": [
    "df.info()"
   ]
  },
  {
   "cell_type": "markdown",
   "id": "dbda976e",
   "metadata": {},
   "source": [
    "Si può notare che tra i tipi delle colonne ci sono principalmente valori _object_, sicuramente servirà un'operazione di *encoding*"
   ]
  },
  {
   "cell_type": "code",
   "execution_count": null,
   "id": "bfdf58bf",
   "metadata": {},
   "outputs": [],
   "source": [
    "df.describe()"
   ]
  },
  {
   "cell_type": "markdown",
   "id": "8bda506e",
   "metadata": {},
   "source": [
    "Strane queste colonne capital-gain e capital-loss, meglio dare un'occhiata più specifica"
   ]
  },
  {
   "cell_type": "code",
   "execution_count": null,
   "id": "c9c43b81",
   "metadata": {},
   "outputs": [],
   "source": [
    "df['capital-gain'].value_counts()"
   ]
  },
  {
   "cell_type": "code",
   "execution_count": null,
   "id": "a76de57c",
   "metadata": {},
   "outputs": [],
   "source": [
    "df['capital-gain'].value_counts()"
   ]
  },
  {
   "cell_type": "markdown",
   "id": "4dda7bf9",
   "metadata": {},
   "source": [
    "Capital-gain e capital-value essere inutili, precisamente, (facendo i conti una sola volta perché il numero di 0 nelle due colonne è lo stesso) si può dire che su 32561 tuple 29849 sono 0.\n",
    "Infatti impostando la semplice proporzione \n",
    "$$\n",
    "100:32561=X:29849 \\implies X = \\frac{29849*100}{32561} = 91.6%    \n",
    "$$  \n",
    "Capiamo che addirittura il _*91.6%*_ dei valori all'interno di queste due colonne è 0, questo è abbastanza per rimuovere entrambe le colonne per rendere il dataset più semplice.\n"
   ]
  },
  {
   "cell_type": "markdown",
   "id": "5c4c46ed",
   "metadata": {},
   "source": [
    "Per capire più facilmente quanti siano gli zeri a confronto dei valori accettabili ecco anche una rappresentazione grafica, ma prima un leggero setup di plt per avere dei grafici più carini"
   ]
  },
  {
   "cell_type": "code",
   "execution_count": 2,
   "id": "89b220e6",
   "metadata": {},
   "outputs": [],
   "source": [
    "import matplotlib.pyplot as plt\n",
    "import seaborn as sns \n",
    "plt.rcParams.update({\n",
    "    'figure.facecolor': '#1d2021',\n",
    "    'axes.facecolor': '#201d16',\n",
    "    'axes.edgecolor': '#ebdbb2',\n",
    "    'axes.labelcolor': '#ebdbb2',\n",
    "    'xtick.color': '#ebdbb2',\n",
    "    'ytick.color': '#ebdbb2',\n",
    "    'text.color': '#ebdbb2',\n",
    "    'axes.titlecolor': '#ebdbb2',\n",
    "    'grid.color': '#3c3836',\n",
    "})"
   ]
  },
  {
   "cell_type": "code",
   "execution_count": 3,
   "id": "3f0a1667",
   "metadata": {},
   "outputs": [
    {
     "data": {
      "image/png": "[encoded data removed]",
      "text/plain": [
       "<Figure size 1400x500 with 2 Axes>"
      ]
     },
     "metadata": {},
     "output_type": "display_data"
    }
   ],
   "source": [
    "plt.figure(figsize=(14, 5)) \n",
    "plt.subplot(1, 2, 1)\n",
    "sns.histplot(df[\"capital-loss\"])\n",
    "\n",
    "plt.subplot(1, 2, 2)\n",
    "sns.histplot(df[\"capital-gain\"], kde=False)\n",
    "\n",
    "plt.tight_layout()\n",
    "plt.show()"
   ]
  },
  {
   "cell_type": "code",
   "execution_count": null,
   "id": "d11a6b03",
   "metadata": {},
   "outputs": [],
   "source": [
    "df.isnull().all()"
   ]
  },
  {
   "cell_type": "code",
   "execution_count": null,
   "id": "0a85a2ef",
   "metadata": {},
   "outputs": [],
   "source": [
    "for col in df.columns:\n",
    "    print(f\"\\nColonna: {col}\")\n",
    "    print(df[col].value_counts())"
   ]
  },
  {
   "cell_type": "markdown",
   "id": "cd83d39e",
   "metadata": {},
   "source": [
    "Tramite l'output di questi ultimi metodi è possibile accorgersi che non sono presenti valori _null_, ma sono presenti molti _missing values_ marchiati con il carattere _?_ nelle colonne:\n",
    "- WorkClass\n",
    "- Occupation\n",
    "- Native Coutry"
   ]
  },
  {
   "cell_type": "markdown",
   "id": "13c563af",
   "metadata": {},
   "source": [
    "Oltretutto è possibile anche notare che la colonna _education_ ed *education_num* sono la stessa colonna ma numerica, visto che verrà eseguito l'_encoding_ anche la colonna *encoding_num* è inutile."
   ]
  },
  {
   "cell_type": "markdown",
   "id": "5b982088",
   "metadata": {},
   "source": [
    "Infine anche la colonna fnlwgt (Final Weight) è inutile perché rappresenta un peso usato nell'analisi demografica dei sondaggi che, nel contesto della classificazione è completamente inutile. "
   ]
  },
  {
   "cell_type": "markdown",
   "id": "3d4edd45",
   "metadata": {},
   "source": [
    "Un grafico utile è il boxplot delle colonne non a classi perché sono gli unici che possono presentare veri outlier."
   ]
  },
  {
   "cell_type": "code",
   "execution_count": 19,
   "id": "e66fe0ab",
   "metadata": {},
   "outputs": [
    {
     "data": {
      "image/png": "[encoded data removed]",
      "text/plain": [
       "<Figure size 1200x600 with 1 Axes>"
      ]
     },
     "metadata": {},
     "output_type": "display_data"
    }
   ],
   "source": [
    "plt.figure(figsize=(12, 6))\n",
    "sns.boxplot(df[[\"age\",\"hours-per-week\"]])\n",
    "plt.tight_layout()\n",
    "plt.show()"
   ]
  },
  {
   "cell_type": "markdown",
   "id": "1813463a",
   "metadata": {},
   "source": [
    "Ci sono dei valori lontani, ma non irrelistici quindi _non serve pulire gli outlier_ "
   ]
  },
  {
   "cell_type": "markdown",
   "id": "8de8cff4",
   "metadata": {},
   "source": [
    "## Preprocessing\n",
    "Cominciamo dalla rimozione delle colonne che erano risultate inutili dalla Data Exploration"
   ]
  },
  {
   "cell_type": "code",
   "execution_count": 5,
   "id": "6869e850",
   "metadata": {},
   "outputs": [],
   "source": [
    "df.drop([\"capital-gain\", \"capital-loss\",\"education-num\",\"fnlwgt\"], axis=1, inplace=True)\n"
   ]
  },
  {
   "cell_type": "code",
   "execution_count": 9,
   "id": "4e944a77",
   "metadata": {},
   "outputs": [],
   "source": [
    "df.drop_duplicates(inplace=True)"
   ]
  },
  {
   "cell_type": "markdown",
   "id": "bda36236",
   "metadata": {},
   "source": [
    "Prima di darci all'encoding rendo più facile le operazioni trasformando i _missing values ' ?'_ in _np.nan_ "
   ]
  },
  {
   "cell_type": "code",
   "execution_count": 10,
   "id": "32f7fa5b",
   "metadata": {},
   "outputs": [],
   "source": [
    "import numpy as np\n",
    "df.replace(to_replace=\" ?\",value=np.nan,inplace=True)"
   ]
  },
  {
   "cell_type": "markdown",
   "id": "2e7d8c96",
   "metadata": {},
   "source": [
    "Trasformiamo i _missing values_ nel valore più comune."
   ]
  },
  {
   "cell_type": "code",
   "execution_count": 11,
   "id": "73bcfaec",
   "metadata": {},
   "outputs": [
    {
     "data": {
      "text/plain": [
       "array([[39, ' State-gov', ' Bachelors', ..., 40, ' United-States',\n",
       "        ' <=50K'],\n",
       "       [50, ' Self-emp-not-inc', ' Bachelors', ..., 13, ' United-States',\n",
       "        ' <=50K'],\n",
       "       [38, ' Private', ' HS-grad', ..., 40, ' United-States', ' <=50K'],\n",
       "       ...,\n",
       "       [27, ' Private', ' Assoc-acdm', ..., 38, ' United-States',\n",
       "        ' <=50K'],\n",
       "       [58, ' Private', ' HS-grad', ..., 40, ' United-States', ' <=50K'],\n",
       "       [52, ' Self-emp-inc', ' HS-grad', ..., 40, ' United-States',\n",
       "        ' >50K']], shape=(28318, 11), dtype=object)"
      ]
     },
     "execution_count": 11,
     "metadata": {},
     "output_type": "execute_result"
    }
   ],
   "source": [
    "from sklearn.impute import SimpleImputer \n",
    "\n",
    "imputer = SimpleImputer(missing_values=np.nan, strategy='most_frequent')\n",
    "imputer.fit_transform(df)"
   ]
  },
  {
   "cell_type": "markdown",
   "id": "290ffbf9",
   "metadata": {},
   "source": [
    "Adesso il problema dei _missing values_ è risolto! Si può passare all'_encoding_. "
   ]
  },
  {
   "cell_type": "code",
   "execution_count": 12,
   "id": "d2a22e71",
   "metadata": {},
   "outputs": [
    {
     "name": "stdout",
     "output_type": "stream",
     "text": [
      "Index(['workclass', 'education', 'marital-status', 'occupation',\n",
      "       'relationship', 'race', 'sex', 'native-country', 'salary'],\n",
      "      dtype='object')\n"
     ]
    }
   ],
   "source": [
    "columns = df.select_dtypes(include=\"object\").columns\n",
    "print(columns)"
   ]
  },
  {
   "cell_type": "code",
   "execution_count": 13,
   "id": "9180bed8",
   "metadata": {},
   "outputs": [],
   "source": [
    "from sklearn.preprocessing import OneHotEncoder\n",
    "encoder = OneHotEncoder(drop='first',sparse_output=False)\n",
    "\n",
    "for column in columns:\n",
    "    df[column] = encoder.fit_transform(df[[column]])\n"
   ]
  },
  {
   "cell_type": "markdown",
   "id": "4416f9e5",
   "metadata": {},
   "source": [
    "Infine per uniformità dei dati eseguiamo il casting dell'intero contenuto del _Data Frame_ a _float_"
   ]
  },
  {
   "cell_type": "code",
   "execution_count": 14,
   "id": "24f89ceb",
   "metadata": {},
   "outputs": [],
   "source": [
    "df = df.astype(float)"
   ]
  }
 ],
 "metadata": {
  "kernelspec": {
   "display_name": "Python 3",
   "language": "python",
   "name": "python3"
  },
  "language_info": {
   "codemirror_mode": {
    "name": "ipython",
    "version": 3
   },
   "file_extension": ".py",
   "mimetype": "text/x-python",
   "name": "python",
   "nbconvert_exporter": "python",
   "pygments_lexer": "ipython3",
   "version": "3.13.5"
  }
 },
 "nbformat": 4,
 "nbformat_minor": 5
}
